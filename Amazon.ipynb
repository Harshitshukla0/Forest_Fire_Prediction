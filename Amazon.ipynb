{
 "cells": [
  {
   "cell_type": "code",
   "execution_count": null,
   "metadata": {},
   "outputs": [],
   "source": []
  },
  {
   "cell_type": "code",
   "execution_count": null,
   "metadata": {},
   "outputs": [],
   "source": []
  },
  {
   "cell_type": "code",
   "execution_count": null,
   "metadata": {},
   "outputs": [],
   "source": []
  },
  {
   "cell_type": "code",
   "execution_count": null,
   "metadata": {},
   "outputs": [],
   "source": []
  },
  {
   "cell_type": "code",
   "execution_count": null,
   "metadata": {},
   "outputs": [],
   "source": []
  },
  {
   "cell_type": "code",
   "execution_count": null,
   "metadata": {},
   "outputs": [],
   "source": []
  },
  {
   "cell_type": "code",
   "execution_count": null,
   "metadata": {},
   "outputs": [],
   "source": []
  },
  {
   "cell_type": "code",
   "execution_count": 2,
   "metadata": {},
   "outputs": [],
   "source": [
    "import pandas as pd"
   ]
  },
  {
   "cell_type": "code",
   "execution_count": 3,
   "metadata": {},
   "outputs": [],
   "source": [
    "data_xls = pd.read_excel('amazon_fire_data.csv.xlsx', 'Sheet1', index_col=None)\n",
    "data_xls.to_csv('amazon.csv', encoding='utf-8')"
   ]
  },
  {
   "cell_type": "code",
   "execution_count": 22,
   "metadata": {},
   "outputs": [],
   "source": [
    "features=None\n",
    "label=Nonefeatures=None\n",
    "label=None"
   ]
  },
  {
   "cell_type": "code",
   "execution_count": 23,
   "metadata": {},
   "outputs": [
    {
     "data": {
      "text/html": [
       "<div>\n",
       "<style scoped>\n",
       "    .dataframe tbody tr th:only-of-type {\n",
       "        vertical-align: middle;\n",
       "    }\n",
       "\n",
       "    .dataframe tbody tr th {\n",
       "        vertical-align: top;\n",
       "    }\n",
       "\n",
       "    .dataframe thead th {\n",
       "        text-align: right;\n",
       "    }\n",
       "</style>\n",
       "<table border=\"1\" class=\"dataframe\">\n",
       "  <thead>\n",
       "    <tr style=\"text-align: right;\">\n",
       "      <th></th>\n",
       "      <th>Unnamed: 0</th>\n",
       "      <th>temp</th>\n",
       "      <th>wind</th>\n",
       "      <th>hum</th>\n",
       "      <th>preci</th>\n",
       "      <th>pressure</th>\n",
       "      <th>fire</th>\n",
       "    </tr>\n",
       "  </thead>\n",
       "  <tbody>\n",
       "    <tr>\n",
       "      <th>0</th>\n",
       "      <td>0</td>\n",
       "      <td>34</td>\n",
       "      <td>9</td>\n",
       "      <td>65.0</td>\n",
       "      <td>0.0</td>\n",
       "      <td>1012</td>\n",
       "      <td>1</td>\n",
       "    </tr>\n",
       "    <tr>\n",
       "      <th>1</th>\n",
       "      <td>1</td>\n",
       "      <td>36</td>\n",
       "      <td>9</td>\n",
       "      <td>61.0</td>\n",
       "      <td>0.0</td>\n",
       "      <td>1010</td>\n",
       "      <td>1</td>\n",
       "    </tr>\n",
       "    <tr>\n",
       "      <th>2</th>\n",
       "      <td>2</td>\n",
       "      <td>34</td>\n",
       "      <td>7</td>\n",
       "      <td>65.0</td>\n",
       "      <td>0.0</td>\n",
       "      <td>1009</td>\n",
       "      <td>1</td>\n",
       "    </tr>\n",
       "    <tr>\n",
       "      <th>3</th>\n",
       "      <td>3</td>\n",
       "      <td>37</td>\n",
       "      <td>8</td>\n",
       "      <td>62.0</td>\n",
       "      <td>0.0</td>\n",
       "      <td>1008</td>\n",
       "      <td>1</td>\n",
       "    </tr>\n",
       "    <tr>\n",
       "      <th>4</th>\n",
       "      <td>4</td>\n",
       "      <td>31</td>\n",
       "      <td>6</td>\n",
       "      <td>77.0</td>\n",
       "      <td>1.9</td>\n",
       "      <td>1010</td>\n",
       "      <td>1</td>\n",
       "    </tr>\n",
       "  </tbody>\n",
       "</table>\n",
       "</div>"
      ],
      "text/plain": [
       "   Unnamed: 0  temp  wind   hum  preci  pressure  fire\n",
       "0           0    34     9  65.0    0.0      1012     1\n",
       "1           1    36     9  61.0    0.0      1010     1\n",
       "2           2    34     7  65.0    0.0      1009     1\n",
       "3           3    37     8  62.0    0.0      1008     1\n",
       "4           4    31     6  77.0    1.9      1010     1"
      ]
     },
     "execution_count": 23,
     "metadata": {},
     "output_type": "execute_result"
    }
   ],
   "source": [
    "from sklearn.preprocessing import MinMaxScaler\n",
    "\n",
    "from keras.models import Sequential\n",
    "from keras.layers import Dense\n",
    "import pandas as pd\n",
    "import matplotlib.pyplot as pyplot\n",
    "\n",
    "df = pd.read_csv(r'amazon.csv')\n",
    "df.head()"
   ]
  },
  {
   "cell_type": "code",
   "execution_count": 24,
   "metadata": {},
   "outputs": [
    {
     "ename": "AttributeError",
     "evalue": "'NoneType' object has no attribute 'shape'",
     "output_type": "error",
     "traceback": [
      "\u001b[1;31m---------------------------------------------------------------------------\u001b[0m",
      "\u001b[1;31mAttributeError\u001b[0m                            Traceback (most recent call last)",
      "\u001b[1;32m<ipython-input-24-93c2d5d2fdb1>\u001b[0m in \u001b[0;36m<module>\u001b[1;34m\u001b[0m\n\u001b[1;32m----> 1\u001b[1;33m \u001b[0mprint\u001b[0m\u001b[1;33m(\u001b[0m\u001b[0mlabel\u001b[0m\u001b[1;33m.\u001b[0m\u001b[0mshape\u001b[0m\u001b[1;33m)\u001b[0m\u001b[1;33m\u001b[0m\u001b[1;33m\u001b[0m\u001b[0m\n\u001b[0m",
      "\u001b[1;31mAttributeError\u001b[0m: 'NoneType' object has no attribute 'shape'"
     ]
    }
   ],
   "source": [
    "print(label.shape)"
   ]
  },
  {
   "cell_type": "code",
   "execution_count": 25,
   "metadata": {
    "scrolled": true
   },
   "outputs": [
    {
     "ename": "AttributeError",
     "evalue": "'NoneType' object has no attribute 'shape'",
     "output_type": "error",
     "traceback": [
      "\u001b[1;31m---------------------------------------------------------------------------\u001b[0m",
      "\u001b[1;31mAttributeError\u001b[0m                            Traceback (most recent call last)",
      "\u001b[1;32m<ipython-input-25-e0e9e2ebcbe4>\u001b[0m in \u001b[0;36m<module>\u001b[1;34m\u001b[0m\n\u001b[1;32m----> 1\u001b[1;33m \u001b[0mprint\u001b[0m\u001b[1;33m(\u001b[0m\u001b[0mfeatures\u001b[0m\u001b[1;33m.\u001b[0m\u001b[0mshape\u001b[0m\u001b[1;33m)\u001b[0m\u001b[1;33m\u001b[0m\u001b[1;33m\u001b[0m\u001b[0m\n\u001b[0m",
      "\u001b[1;31mAttributeError\u001b[0m: 'NoneType' object has no attribute 'shape'"
     ]
    }
   ],
   "source": [
    "print(features.shape)"
   ]
  },
  {
   "cell_type": "code",
   "execution_count": null,
   "metadata": {},
   "outputs": [],
   "source": []
  },
  {
   "cell_type": "code",
   "execution_count": 32,
   "metadata": {},
   "outputs": [],
   "source": [
    "\n",
    "\n",
    "dataset = df.values          \n",
    "features = dataset[:,1:6]\n",
    "label = dataset[:,6]\n",
    "label=label.reshape(1460,1)\n",
    "#features=df[[\"temp\",\"wind\",\"hum\",\"preci\",\"pressure\",]]\n",
    "#label=df[[\"fire\"]]"
   ]
  },
  {
   "cell_type": "code",
   "execution_count": null,
   "metadata": {},
   "outputs": [],
   "source": [
    "from pyspark.sql.functions import when  \n",
    "\n",
    "df = df.select('colA', \n",
    "                   when(df.colB > 0, 1).alias('colB'),\n",
    "                   when(df.colB > 0, 1).alias('colC'))"
   ]
  },
  {
   "cell_type": "code",
   "execution_count": 33,
   "metadata": {},
   "outputs": [
    {
     "data": {
      "text/plain": [
       "numpy.ndarray"
      ]
     },
     "execution_count": 33,
     "metadata": {},
     "output_type": "execute_result"
    }
   ],
   "source": [
    "type(label)"
   ]
  },
  {
   "cell_type": "code",
   "execution_count": 34,
   "metadata": {},
   "outputs": [
    {
     "data": {
      "text/plain": [
       "pandas.core.frame.DataFrame"
      ]
     },
     "execution_count": 34,
     "metadata": {},
     "output_type": "execute_result"
    }
   ],
   "source": [
    "type(df)"
   ]
  },
  {
   "cell_type": "code",
   "execution_count": 35,
   "metadata": {},
   "outputs": [
    {
     "name": "stdout",
     "output_type": "stream",
     "text": [
      "(1460, 1)\n"
     ]
    }
   ],
   "source": [
    "print(label.shape)"
   ]
  },
  {
   "cell_type": "code",
   "execution_count": 36,
   "metadata": {
    "scrolled": true
   },
   "outputs": [
    {
     "name": "stdout",
     "output_type": "stream",
     "text": [
      "(1460, 5)\n"
     ]
    }
   ],
   "source": [
    "print(features.shape)"
   ]
  },
  {
   "cell_type": "code",
   "execution_count": null,
   "metadata": {},
   "outputs": [],
   "source": []
  },
  {
   "cell_type": "code",
   "execution_count": 16,
   "metadata": {},
   "outputs": [
    {
     "ename": "AttributeError",
     "evalue": "'numpy.ndarray' object has no attribute 'describe'",
     "output_type": "error",
     "traceback": [
      "\u001b[1;31m---------------------------------------------------------------------------\u001b[0m",
      "\u001b[1;31mAttributeError\u001b[0m                            Traceback (most recent call last)",
      "\u001b[1;32m<ipython-input-16-fd42ab9296eb>\u001b[0m in \u001b[0;36m<module>\u001b[1;34m\u001b[0m\n\u001b[1;32m----> 1\u001b[1;33m \u001b[0mlabel\u001b[0m\u001b[1;33m.\u001b[0m\u001b[0mdescribe\u001b[0m\u001b[1;33m(\u001b[0m\u001b[1;33m)\u001b[0m\u001b[1;33m\u001b[0m\u001b[1;33m\u001b[0m\u001b[0m\n\u001b[0m",
      "\u001b[1;31mAttributeError\u001b[0m: 'numpy.ndarray' object has no attribute 'describe'"
     ]
    }
   ],
   "source": [
    "label.describe()"
   ]
  },
  {
   "cell_type": "code",
   "execution_count": 37,
   "metadata": {},
   "outputs": [],
   "source": [
    "scalarfeatures, scalarlabel = MinMaxScaler(), MinMaxScaler()\n",
    "scalarfeatures.fit(features)\n",
    "scalarlabel.fit(label)\n",
    "features    =   scalarfeatures.transform(features)\n",
    "label       =   scalarlabel.transform(label)\n"
   ]
  },
  {
   "cell_type": "code",
   "execution_count": 42,
   "metadata": {},
   "outputs": [
    {
     "name": "stdout",
     "output_type": "stream",
     "text": [
      "(1460, 1)\n"
     ]
    }
   ],
   "source": [
    "print(label.shape)"
   ]
  },
  {
   "cell_type": "code",
   "execution_count": 33,
   "metadata": {},
   "outputs": [
    {
     "data": {
      "text/plain": [
       "array([[1.],\n",
       "       [1.],\n",
       "       [1.],\n",
       "       ...,\n",
       "       [1.],\n",
       "       [1.],\n",
       "       [1.]])"
      ]
     },
     "execution_count": 33,
     "metadata": {},
     "output_type": "execute_result"
    }
   ],
   "source": [
    "label"
   ]
  },
  {
   "cell_type": "code",
   "execution_count": null,
   "metadata": {},
   "outputs": [],
   "source": []
  },
  {
   "cell_type": "code",
   "execution_count": null,
   "metadata": {},
   "outputs": [],
   "source": []
  },
  {
   "cell_type": "code",
   "execution_count": null,
   "metadata": {},
   "outputs": [],
   "source": []
  },
  {
   "cell_type": "code",
   "execution_count": null,
   "metadata": {},
   "outputs": [],
   "source": []
  },
  {
   "cell_type": "code",
   "execution_count": null,
   "metadata": {},
   "outputs": [],
   "source": [
    "200"
   ]
  },
  {
   "cell_type": "code",
   "execution_count": null,
   "metadata": {},
   "outputs": [
    {
     "name": "stdout",
     "output_type": "stream",
     "text": [
      "Train on 1168 samples, validate on 292 samples\n",
      "Epoch 1/200\n",
      "1168/1168 [==============================] - 1s 677us/step - loss: 0.2480 - accuracy: 0.6079 - val_loss: 0.1905 - val_accuracy: 0.7089\n",
      "Epoch 2/200\n",
      "1168/1168 [==============================] - 1s 505us/step - loss: 0.2183 - accuracy: 0.6524 - val_loss: 0.1984 - val_accuracy: 0.6781\n",
      "Epoch 3/200\n",
      "1168/1168 [==============================] - 1s 674us/step - loss: 0.2149 - accuracy: 0.6729 - val_loss: 0.1981 - val_accuracy: 0.6747\n",
      "Epoch 4/200\n",
      "1168/1168 [==============================] - 1s 524us/step - loss: 0.2131 - accuracy: 0.6610 - val_loss: 0.2123 - val_accuracy: 0.6062\n",
      "Epoch 5/200\n",
      "1168/1168 [==============================] - 1s 565us/step - loss: 0.2135 - accuracy: 0.6635 - val_loss: 0.1987 - val_accuracy: 0.6849\n",
      "Epoch 6/200\n",
      "1168/1168 [==============================] - 1s 530us/step - loss: 0.2104 - accuracy: 0.6764 - val_loss: 0.2020 - val_accuracy: 0.6644\n",
      "Epoch 7/200\n",
      "1168/1168 [==============================] - 1s 518us/step - loss: 0.2110 - accuracy: 0.6627 - val_loss: 0.2051 - val_accuracy: 0.6199\n",
      "Epoch 8/200\n",
      "1168/1168 [==============================] - 1s 516us/step - loss: 0.2089 - accuracy: 0.6687 - val_loss: 0.1987 - val_accuracy: 0.6473\n",
      "Epoch 9/200\n",
      "1168/1168 [==============================] - 1s 508us/step - loss: 0.2082 - accuracy: 0.6704 - val_loss: 0.2019 - val_accuracy: 0.6233\n",
      "Epoch 10/200\n",
      "1168/1168 [==============================] - 1s 495us/step - loss: 0.2065 - accuracy: 0.6841 - val_loss: 0.1881 - val_accuracy: 0.6849\n",
      "Epoch 11/200\n",
      "1168/1168 [==============================] - 1s 484us/step - loss: 0.2059 - accuracy: 0.6764 - val_loss: 0.2106 - val_accuracy: 0.6062\n",
      "Epoch 12/200\n",
      "1168/1168 [==============================] - 1s 507us/step - loss: 0.2050 - accuracy: 0.6849 - val_loss: 0.1927 - val_accuracy: 0.6473\n",
      "Epoch 13/200\n",
      "1168/1168 [==============================] - 1s 461us/step - loss: 0.2047 - accuracy: 0.6807 - val_loss: 0.2006 - val_accuracy: 0.6164\n",
      "Epoch 14/200\n",
      "1168/1168 [==============================] - 1s 488us/step - loss: 0.2029 - accuracy: 0.6772 - val_loss: 0.1957 - val_accuracy: 0.6164\n",
      "Epoch 15/200\n",
      "1168/1168 [==============================] - 1s 501us/step - loss: 0.2034 - accuracy: 0.6764 - val_loss: 0.1918 - val_accuracy: 0.7123\n",
      "Epoch 16/200\n",
      "1168/1168 [==============================] - 1s 471us/step - loss: 0.2039 - accuracy: 0.6884 - val_loss: 0.1853 - val_accuracy: 0.6884\n",
      "Epoch 17/200\n",
      "1168/1168 [==============================] - 1s 473us/step - loss: 0.2006 - accuracy: 0.6892 - val_loss: 0.1958 - val_accuracy: 0.6301\n",
      "Epoch 18/200\n",
      "1168/1168 [==============================] - 1s 504us/step - loss: 0.2036 - accuracy: 0.6781 - val_loss: 0.1889 - val_accuracy: 0.7123\n",
      "Epoch 19/200\n",
      "1168/1168 [==============================] - 1s 494us/step - loss: 0.2019 - accuracy: 0.6721 - val_loss: 0.1887 - val_accuracy: 0.6781\n",
      "Epoch 20/200\n",
      "1168/1168 [==============================] - 1s 495us/step - loss: 0.2001 - accuracy: 0.6824 - val_loss: 0.1840 - val_accuracy: 0.6986\n",
      "Epoch 21/200\n",
      "1168/1168 [==============================] - 1s 491us/step - loss: 0.2007 - accuracy: 0.6866 - val_loss: 0.1932 - val_accuracy: 0.6438\n",
      "Epoch 22/200\n",
      "1168/1168 [==============================] - 1s 500us/step - loss: 0.2006 - accuracy: 0.6832 - val_loss: 0.1876 - val_accuracy: 0.6747\n",
      "Epoch 23/200\n",
      "1168/1168 [==============================] - 1s 492us/step - loss: 0.1980 - accuracy: 0.6952 - val_loss: 0.1982 - val_accuracy: 0.6404\n",
      "Epoch 24/200\n",
      "1168/1168 [==============================] - 1s 502us/step - loss: 0.1988 - accuracy: 0.6892 - val_loss: 0.1827 - val_accuracy: 0.6986\n",
      "Epoch 25/200\n",
      "1168/1168 [==============================] - 1s 495us/step - loss: 0.1984 - accuracy: 0.6969 - val_loss: 0.1834 - val_accuracy: 0.6918\n",
      "Epoch 26/200\n",
      "1168/1168 [==============================] - 2s 1ms/step - loss: 0.1966 - accuracy: 0.6952 - val_loss: 0.1812 - val_accuracy: 0.6918\n",
      "Epoch 27/200\n",
      "1168/1168 [==============================] - 1s 1ms/step - loss: 0.1991 - accuracy: 0.6926 - val_loss: 0.1839 - val_accuracy: 0.7226\n",
      "Epoch 28/200\n",
      "1168/1168 [==============================] - 1s 553us/step - loss: 0.1972 - accuracy: 0.7029 - val_loss: 0.1846 - val_accuracy: 0.6678\n",
      "Epoch 29/200\n",
      "1168/1168 [==============================] - 1s 523us/step - loss: 0.1971 - accuracy: 0.6926 - val_loss: 0.1830 - val_accuracy: 0.7192\n",
      "Epoch 30/200\n",
      "1168/1168 [==============================] - 1s 514us/step - loss: 0.1976 - accuracy: 0.6918 - val_loss: 0.1817 - val_accuracy: 0.6884\n",
      "Epoch 31/200\n",
      "1168/1168 [==============================] - 1s 576us/step - loss: 0.1957 - accuracy: 0.6901 - val_loss: 0.1844 - val_accuracy: 0.6918\n",
      "Epoch 32/200\n",
      "1168/1168 [==============================] - 1s 529us/step - loss: 0.1957 - accuracy: 0.7063 - val_loss: 0.2060 - val_accuracy: 0.6301\n",
      "Epoch 33/200\n",
      "1168/1168 [==============================] - 1s 520us/step - loss: 0.1947 - accuracy: 0.6943 - val_loss: 0.1814 - val_accuracy: 0.7192\n",
      "Epoch 34/200\n",
      "1168/1168 [==============================] - 1s 784us/step - loss: 0.1970 - accuracy: 0.7046 - val_loss: 0.1862 - val_accuracy: 0.6849\n",
      "Epoch 35/200\n",
      "1168/1168 [==============================] - 1s 527us/step - loss: 0.1936 - accuracy: 0.6995 - val_loss: 0.1824 - val_accuracy: 0.6815\n",
      "Epoch 36/200\n",
      "1168/1168 [==============================] - 1s 534us/step - loss: 0.1959 - accuracy: 0.6969 - val_loss: 0.1980 - val_accuracy: 0.6370\n",
      "Epoch 37/200\n",
      "1168/1168 [==============================] - 1s 547us/step - loss: 0.1939 - accuracy: 0.6943 - val_loss: 0.1961 - val_accuracy: 0.6781\n",
      "Epoch 38/200\n",
      "1168/1168 [==============================] - 1s 562us/step - loss: 0.1932 - accuracy: 0.7021 - val_loss: 0.2224 - val_accuracy: 0.6575\n",
      "Epoch 39/200\n",
      "1168/1168 [==============================] - 1s 568us/step - loss: 0.1950 - accuracy: 0.7149 - val_loss: 0.1827 - val_accuracy: 0.6986\n",
      "Epoch 40/200\n",
      "1168/1168 [==============================] - 1s 510us/step - loss: 0.1928 - accuracy: 0.6978 - val_loss: 0.1753 - val_accuracy: 0.7055\n",
      "Epoch 41/200\n",
      "1168/1168 [==============================] - 1s 499us/step - loss: 0.1943 - accuracy: 0.7063 - val_loss: 0.2006 - val_accuracy: 0.6438\n",
      "Epoch 42/200\n",
      "1168/1168 [==============================] - 1s 534us/step - loss: 0.1927 - accuracy: 0.7012 - val_loss: 0.1784 - val_accuracy: 0.6986\n",
      "Epoch 43/200\n",
      "1168/1168 [==============================] - 1s 514us/step - loss: 0.1924 - accuracy: 0.7003 - val_loss: 0.1754 - val_accuracy: 0.7123\n",
      "Epoch 44/200\n",
      "1168/1168 [==============================] - 1s 510us/step - loss: 0.1928 - accuracy: 0.7021 - val_loss: 0.1881 - val_accuracy: 0.6644\n",
      "Epoch 45/200\n",
      "1168/1168 [==============================] - 1s 493us/step - loss: 0.1918 - accuracy: 0.7166 - val_loss: 0.1824 - val_accuracy: 0.6781\n",
      "Epoch 46/200\n",
      "1168/1168 [==============================] - 1s 507us/step - loss: 0.1910 - accuracy: 0.7132 - val_loss: 0.1852 - val_accuracy: 0.6849\n",
      "Epoch 47/200\n",
      "1168/1168 [==============================] - 1s 527us/step - loss: 0.1917 - accuracy: 0.7140 - val_loss: 0.1774 - val_accuracy: 0.7123\n",
      "Epoch 48/200\n",
      "1168/1168 [==============================] - 1s 534us/step - loss: 0.1918 - accuracy: 0.7140 - val_loss: 0.1919 - val_accuracy: 0.6952\n",
      "Epoch 49/200\n",
      "1168/1168 [==============================] - 1s 490us/step - loss: 0.1912 - accuracy: 0.7149 - val_loss: 0.2010 - val_accuracy: 0.6644\n",
      "Epoch 50/200\n",
      "1168/1168 [==============================] - 1s 517us/step - loss: 0.1906 - accuracy: 0.7158 - val_loss: 0.1715 - val_accuracy: 0.7226\n",
      "Epoch 51/200\n",
      "1168/1168 [==============================] - 1s 527us/step - loss: 0.1910 - accuracy: 0.7098 - val_loss: 0.1816 - val_accuracy: 0.6815\n",
      "Epoch 52/200\n",
      "1168/1168 [==============================] - 1s 512us/step - loss: 0.1899 - accuracy: 0.7123 - val_loss: 0.1814 - val_accuracy: 0.6952\n",
      "Epoch 53/200\n",
      "1168/1168 [==============================] - 1s 519us/step - loss: 0.1913 - accuracy: 0.7072 - val_loss: 0.1887 - val_accuracy: 0.6884\n",
      "Epoch 54/200\n",
      "1168/1168 [==============================] - 1s 511us/step - loss: 0.1900 - accuracy: 0.7166 - val_loss: 0.1891 - val_accuracy: 0.6815\n",
      "Epoch 55/200\n",
      "1168/1168 [==============================] - 1s 525us/step - loss: 0.1908 - accuracy: 0.7106 - val_loss: 0.1785 - val_accuracy: 0.6918\n",
      "Epoch 56/200\n"
     ]
    },
    {
     "name": "stdout",
     "output_type": "stream",
     "text": [
      "1168/1168 [==============================] - 1s 510us/step - loss: 0.1893 - accuracy: 0.7123 - val_loss: 0.2010 - val_accuracy: 0.6678\n",
      "Epoch 57/200\n",
      "1168/1168 [==============================] - 1s 500us/step - loss: 0.1897 - accuracy: 0.7123 - val_loss: 0.1948 - val_accuracy: 0.6747\n",
      "Epoch 58/200\n",
      "1168/1168 [==============================] - 1s 1ms/step - loss: 0.1892 - accuracy: 0.7166 - val_loss: 0.1791 - val_accuracy: 0.6884\n",
      "Epoch 59/200\n",
      "1168/1168 [==============================] - 1s 872us/step - loss: 0.1882 - accuracy: 0.7140 - val_loss: 0.1773 - val_accuracy: 0.7021\n",
      "Epoch 60/200\n",
      "1168/1168 [==============================] - 1s 719us/step - loss: 0.1880 - accuracy: 0.7192 - val_loss: 0.1773 - val_accuracy: 0.7055\n",
      "Epoch 61/200\n",
      "1168/1168 [==============================] - 2s 2ms/step - loss: 0.1893 - accuracy: 0.7200 - val_loss: 0.1785 - val_accuracy: 0.6918\n",
      "Epoch 62/200\n",
      "1168/1168 [==============================] - 1s 630us/step - loss: 0.1888 - accuracy: 0.7158 - val_loss: 0.1800 - val_accuracy: 0.7055\n",
      "Epoch 63/200\n",
      "1168/1168 [==============================] - 1s 514us/step - loss: 0.1885 - accuracy: 0.7038 - val_loss: 0.1764 - val_accuracy: 0.7089\n",
      "Epoch 64/200\n",
      "1168/1168 [==============================] - 1s 493us/step - loss: 0.1867 - accuracy: 0.7260 - val_loss: 0.1784 - val_accuracy: 0.7055\n",
      "Epoch 65/200\n",
      "1168/1168 [==============================] - 1s 500us/step - loss: 0.1884 - accuracy: 0.7140 - val_loss: 0.1885 - val_accuracy: 0.6815\n",
      "Epoch 66/200\n",
      "1168/1168 [==============================] - 1s 672us/step - loss: 0.1882 - accuracy: 0.7158 - val_loss: 0.1738 - val_accuracy: 0.7055\n",
      "Epoch 67/200\n",
      "1168/1168 [==============================] - 1s 596us/step - loss: 0.1887 - accuracy: 0.7166 - val_loss: 0.1869 - val_accuracy: 0.6952\n",
      "Epoch 68/200\n",
      "1168/1168 [==============================] - 1s 447us/step - loss: 0.1856 - accuracy: 0.7260 - val_loss: 0.1798 - val_accuracy: 0.6952\n",
      "Epoch 69/200\n",
      "1168/1168 [==============================] - 1s 572us/step - loss: 0.1872 - accuracy: 0.7277 - val_loss: 0.1983 - val_accuracy: 0.6849\n",
      "Epoch 70/200\n",
      "1168/1168 [==============================] - 1s 661us/step - loss: 0.1871 - accuracy: 0.7226 - val_loss: 0.1717 - val_accuracy: 0.7158\n",
      "Epoch 71/200\n",
      "1168/1168 [==============================] - 1s 695us/step - loss: 0.1866 - accuracy: 0.7217 - val_loss: 0.1800 - val_accuracy: 0.6918\n",
      "Epoch 72/200\n",
      "1168/1168 [==============================] - 1s 510us/step - loss: 0.1863 - accuracy: 0.7226 - val_loss: 0.2149 - val_accuracy: 0.6781\n",
      "Epoch 73/200\n",
      "1168/1168 [==============================] - 1s 479us/step - loss: 0.1868 - accuracy: 0.7175 - val_loss: 0.1881 - val_accuracy: 0.6918\n",
      "Epoch 74/200\n",
      "1168/1168 [==============================] - 0s 428us/step - loss: 0.1876 - accuracy: 0.7166 - val_loss: 0.1780 - val_accuracy: 0.6986\n",
      "Epoch 75/200\n",
      "1168/1168 [==============================] - 1s 435us/step - loss: 0.1870 - accuracy: 0.7183 - val_loss: 0.1765 - val_accuracy: 0.7089\n",
      "Epoch 76/200\n",
      "1168/1168 [==============================] - 1s 435us/step - loss: 0.1865 - accuracy: 0.7175 - val_loss: 0.1994 - val_accuracy: 0.6747\n",
      "Epoch 77/200\n",
      "1168/1168 [==============================] - 0s 411us/step - loss: 0.1851 - accuracy: 0.7217 - val_loss: 0.1794 - val_accuracy: 0.7158\n",
      "Epoch 78/200\n",
      "1168/1168 [==============================] - 0s 395us/step - loss: 0.1870 - accuracy: 0.7106 - val_loss: 0.2071 - val_accuracy: 0.6678\n",
      "Epoch 79/200\n",
      "1168/1168 [==============================] - 0s 418us/step - loss: 0.1862 - accuracy: 0.7217 - val_loss: 0.2050 - val_accuracy: 0.6884\n",
      "Epoch 80/200\n",
      "1168/1168 [==============================] - 0s 417us/step - loss: 0.1856 - accuracy: 0.7303 - val_loss: 0.1816 - val_accuracy: 0.7226\n",
      "Epoch 81/200\n",
      "1168/1168 [==============================] - 0s 421us/step - loss: 0.1859 - accuracy: 0.7312 - val_loss: 0.1747 - val_accuracy: 0.7055\n",
      "Epoch 82/200\n",
      "1168/1168 [==============================] - 0s 401us/step - loss: 0.1844 - accuracy: 0.7303 - val_loss: 0.1739 - val_accuracy: 0.7123\n",
      "Epoch 83/200\n",
      "1168/1168 [==============================] - 0s 401us/step - loss: 0.1859 - accuracy: 0.7295 - val_loss: 0.1821 - val_accuracy: 0.7021\n",
      "Epoch 84/200\n",
      "1168/1168 [==============================] - 0s 401us/step - loss: 0.1860 - accuracy: 0.7140 - val_loss: 0.1823 - val_accuracy: 0.6918\n",
      "Epoch 85/200\n",
      "1168/1168 [==============================] - 1s 466us/step - loss: 0.1842 - accuracy: 0.7243 - val_loss: 0.1732 - val_accuracy: 0.7089\n",
      "Epoch 86/200\n",
      "1168/1168 [==============================] - 0s 411us/step - loss: 0.1851 - accuracy: 0.7295 - val_loss: 0.2061 - val_accuracy: 0.7021\n",
      "Epoch 87/200\n",
      "1168/1168 [==============================] - 0s 428us/step - loss: 0.1850 - accuracy: 0.7243 - val_loss: 0.1754 - val_accuracy: 0.7089\n",
      "Epoch 88/200\n",
      "1168/1168 [==============================] - 0s 411us/step - loss: 0.1859 - accuracy: 0.7192 - val_loss: 0.1759 - val_accuracy: 0.6986\n",
      "Epoch 89/200\n",
      "1168/1168 [==============================] - 1s 431us/step - loss: 0.1825 - accuracy: 0.7312 - val_loss: 0.1901 - val_accuracy: 0.6918\n",
      "Epoch 90/200\n",
      "1168/1168 [==============================] - 0s 401us/step - loss: 0.1838 - accuracy: 0.7260 - val_loss: 0.2046 - val_accuracy: 0.6712\n",
      "Epoch 91/200\n",
      "1168/1168 [==============================] - 0s 423us/step - loss: 0.1841 - accuracy: 0.7226 - val_loss: 0.1908 - val_accuracy: 0.6747\n",
      "Epoch 92/200\n",
      "1168/1168 [==============================] - ETA: 0s - loss: 0.1833 - accuracy: 0.72 - 1s 442us/step - loss: 0.1831 - accuracy: 0.7252 - val_loss: 0.1729 - val_accuracy: 0.7260\n",
      "Epoch 93/200\n",
      "1168/1168 [==============================] - 1s 589us/step - loss: 0.1846 - accuracy: 0.7260 - val_loss: 0.1735 - val_accuracy: 0.7158\n",
      "Epoch 94/200\n",
      "1168/1168 [==============================] - 1s 514us/step - loss: 0.1834 - accuracy: 0.7269 - val_loss: 0.1940 - val_accuracy: 0.7089\n",
      "Epoch 95/200\n",
      "1168/1168 [==============================] - 1s 517us/step - loss: 0.1838 - accuracy: 0.7243 - val_loss: 0.1819 - val_accuracy: 0.7055\n",
      "Epoch 96/200\n",
      " 576/1168 [=============>................] - ETA: 0s - loss: 0.1846 - accuracy: 0.73"
     ]
    }
   ],
   "source": [
    "# define the model\n",
    "model = Sequential()\n",
    "model.add(Dense(1000,input_dim=5, activation='relu'))\n",
    "model.add(Dense(1000, activation='relu'))\n",
    "model.add(Dense(1, activation='sigmoid'))\n",
    "# compiling the model\n",
    "model.compile(loss='mse', optimizer='adagrad', metrics=['accuracy'])\n",
    "m=model.fit(features,label, validation_split=0.2, epochs=200,batch_size=64)\n",
    "# evaluating the accuracy of the model\n",
    "_, accuracy = model.evaluate(features,label)\n",
    "print('Accuracy: %.2f' % (accuracy*100))\n",
    "# make class predictions with the model\n",
    "predictions = model.predict_classes(features)\n"
   ]
  },
  {
   "cell_type": "code",
   "execution_count": null,
   "metadata": {},
   "outputs": [],
   "source": []
  },
  {
   "cell_type": "code",
   "execution_count": 44,
   "metadata": {},
   "outputs": [],
   "source": [
    "import matplotlib.pyplot as plt"
   ]
  },
  {
   "cell_type": "code",
   "execution_count": 46,
   "metadata": {
    "collapsed": true
   },
   "outputs": [
    {
     "name": "stdout",
     "output_type": "stream",
     "text": [
      "[0.6842105263157894, 0.25, 0.6674633690117427, 0.0, 0.375] => 0 (expected 1)\n",
      "[0.7894736842105263, 0.25, 0.6258962901382106, 0.0, 0.25] => 0 (expected 1)\n",
      "[0.6842105263157894, 0.15000000000000002, 0.6674633690117427, 0.0, 0.1875] => 0 (expected 1)\n",
      "[0.8421052631578947, 0.2, 0.6362880598565936, 0.0, 0.125] => 0 (expected 1)\n",
      "[0.5263157894736843, 0.10000000000000003, 0.7921646056323393, 0.05507246376811594, 0.25] => 0 (expected 1)\n",
      "[0.5789473684210527, 0.10000000000000003, 0.7921646056323393, 0.03768115942028986, 0.3125] => 0 (expected 1)\n",
      "[0.5263157894736843, 0.25, 0.76098929647719, 0.026086956521739132, 0.3125] => 0 (expected 1)\n",
      "[0.631578947368421, 0.45, 0.6986386781668918, 0.0, 0.375] => 0 (expected 1)\n",
      "[0.5263157894736843, 0.4000000000000001, 0.7194222176036579, 0.0, 0.5625] => 1 (expected 1)\n",
      "[0.5789473684210527, 0.4000000000000001, 0.740205757040424, 0.002898550724637681, 0.625] => 1 (expected 1)\n",
      "[0.631578947368421, 0.4000000000000001, 0.740205757040424, 0.002898550724637681, 0.5625] => 1 (expected 0)\n",
      "[0.5263157894736843, 0.35000000000000003, 0.8129481450691053, 0.07536231884057971, 0.5] => 0 (expected 1)\n",
      "[0.631578947368421, 0.4000000000000001, 0.7505975267588071, 0.002898550724637681, 0.5] => 0 (expected 1)\n",
      "[0.42105263157894735, 0.35000000000000003, 0.8441234542242544, 0.057971014492753624, 0.5] => 0 (expected 1)\n",
      "[0.6842105263157894, 0.3, 0.6986386781668918, 0.0, 0.4375] => 0 (expected 0)\n"
     ]
    },
    {
     "data": {
      "image/png": "[encoded data removed]",
      "text/plain": [
       "<Figure size 432x288 with 1 Axes>"
      ]
     },
     "metadata": {
      "needs_background": "light"
     },
     "output_type": "display_data"
    },
    {
     "data": {
      "image/png": "[encoded data removed]",
      "text/plain": [
       "<Figure size 432x288 with 1 Axes>"
      ]
     },
     "metadata": {
      "needs_background": "light"
     },
     "output_type": "display_data"
    }
   ],
   "source": [
    "# summarize the first 15 cases\n",
    "for i in range(15):\n",
    "\tprint('%s => %d (expected %d)' % (features[i].tolist(), predictions[i],label[i]))\n",
    "plt.plot(m.history['accuracy'])\n",
    "plt.plot(m.history['val_accuracy'])\n",
    "plt.title('Model accuracy')\n",
    "plt.ylabel('Accuracy')\n",
    "plt.xlabel('Epoch')\n",
    "plt.legend(['Train', 'Val'], loc='lower right')\n",
    "plt.show()\n",
    "plt.plot(m.history['loss'])\n",
    "plt.plot(m.history['val_loss'])\n",
    "plt.title('Model loss')\n",
    "plt.ylabel('Loss')\n",
    "plt.xlabel('Epoch')\n",
    "plt.legend(['Train', 'Val'], loc='upper right')\n",
    "plt.show()\n"
   ]
  },
  {
   "cell_type": "code",
   "execution_count": null,
   "metadata": {},
   "outputs": [],
   "source": []
  },
  {
   "cell_type": "code",
   "execution_count": null,
   "metadata": {},
   "outputs": [],
   "source": []
  }
 ],
 "metadata": {
  "kernelspec": {
   "display_name": "Python 3",
   "language": "python",
   "name": "python3"
  },
  "language_info": {
   "codemirror_mode": {
    "name": "ipython",
    "version": 3
   },
   "file_extension": ".py",
   "mimetype": "text/x-python",
   "name": "python",
   "nbconvert_exporter": "python",
   "pygments_lexer": "ipython3",
   "version": "3.7.3"
  }
 },
 "nbformat": 4,
 "nbformat_minor": 2
}
